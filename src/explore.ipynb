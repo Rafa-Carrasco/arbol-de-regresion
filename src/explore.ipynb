{
    "cells": [
        {
            "cell_type": "markdown",
            "metadata": {},
            "source": [
                "# Explore here"
            ]
        },
        {
            "cell_type": "code",
            "execution_count": null,
            "metadata": {},
            "outputs": [],
            "source": [
                "# Your code here\n",
                "\n",
                "import os\n",
                "import pandas as pd\n",
                "import requests\n",
                "import matplotlib.pyplot as plt \n",
                "import seaborn as sns\n",
                "from sklearn.model_selection import train_test_split\n",
                "\n",
                "# 1. descargar data\n",
                "\n",
                "# url = \"https://raw.githubusercontent.com/4GeeksAcademy/decision-tree-project-tutorial/main/diabetes.csv\"\n",
                "# respuesta = requests.get(url)\n",
                "# nombre_archivo = \"diabetes.csv\"\n",
                "# with open(nombre_archivo, 'wb') as archivo:\n",
                "#      archivo.write(respuesta.content)\n",
                "\n",
                "# 2. convertir csv en dataframe\n",
                "\n",
                "total_data = pd.read_csv(\"../data/raw/diabetes.csv\")\n",
                "# total_data.shape\n",
                "# 768, 9\n",
                "\n",
                "# borrar duplicados\n",
                "total_data_sin = total_data.drop_duplicates()  \n",
                "total_data_sin.shape\n",
                "# 768, 9 = no hay duplicados\n",
                "\n",
                "total_data.info()\n",
                "\n",
                "# non null valores = 0\n",
                "# todas las variables son numericas\n",
                "\n",
                "ncols = total_data.columns.tolist()\n",
                "print(ncols)\n",
                "\n",
                "total_data_drop = total_data.drop(['SkinThickness'], axis=1)\n",
                "\n"
            ]
        },
        {
            "cell_type": "code",
            "execution_count": null,
            "metadata": {},
            "outputs": [],
            "source": [
                "# hay un error en los valores de \"BloodPressure\" = valores = 0 no son posibles\n",
                "\n",
                "total_data_drop_fil = total_data_drop[(total_data_drop['BloodPressure'] != 0) ]\n",
                "total_data_drop_fil.shape\n",
                "\n",
                "\n",
                "fig, axis = plt.subplots(2, 4, figsize = (10, 7), gridspec_kw={'height_ratios': [1, 1]})\n",
                "\n",
                "# Crear una figura múltiple con histogramas y diagramas de caja\n",
                "sns.histplot(ax = axis[0, 0], data = total_data_drop_fil, x = \"Pregnancies\").set(xlabel = \"Pregnancies\")\n",
                "sns.histplot(ax = axis[0, 1], data = total_data_drop_fil, x = \"Glucose\").set(xlabel = \"Glucose\", ylabel = None)\n",
                "sns.histplot(ax = axis[0, 2], data = total_data_drop_fil, x = \"BloodPressure\").set(xlabel = \"BloodPressure\", ylabel = None)\n",
                "sns.histplot(ax = axis[0, 3], data = total_data_drop_fil, x = \"Insulin\").set(xlabel = \"Insulin\", ylabel = None)\n",
                "sns.histplot(ax = axis[1, 0], data = total_data_drop_fil, x = \"BMI\").set(xlabel = \"BMI\", ylabel = None)\n",
                "sns.histplot(ax = axis[1, 1], data = total_data_drop_fil, x = \"DiabetesPedigreeFunction\").set(xlabel = \"DiabetesPedigreeFunction\", ylabel = None)\n",
                "sns.histplot(ax = axis[1, 2], data = total_data_drop_fil, x = \"Age\").set(xlabel = \"Age\", ylabel = None)\n",
                "sns.histplot(ax = axis[1, 3], data = total_data_drop_fil, x = \"Outcome\").set(xlabel = \"Outcome\", ylabel = None)\n",
                "\n",
                "# Ajustar el layout\n",
                "plt.tight_layout()\n",
                "\n",
                "# Mostrar el plot\n",
                "plt.show()"
            ]
        },
        {
            "cell_type": "code",
            "execution_count": null,
            "metadata": {},
            "outputs": [],
            "source": [
                "fig, axis = plt.subplots(2, 4, figsize = (10, 7), gridspec_kw={'height_ratios': [1, 1]})\n",
                "\n",
                "# Crear una figura múltiple con histogramas y diagramas de caja\n",
                "sns.boxplot(ax = axis[0, 0], data = total_data_drop_fil, x = \"Pregnancies\").set(xlabel = \"Pregnancies\")\n",
                "sns.boxplot(ax = axis[0, 1], data = total_data_drop_fil, x = \"Glucose\").set(xlabel = \"Glucose\", ylabel = None)\n",
                "sns.boxplot(ax = axis[0, 2], data = total_data_drop_fil, x = \"BloodPressure\").set(xlabel = \"BloodPressure\", ylabel = None)\n",
                "sns.boxplot(ax = axis[0, 3], data = total_data_drop_fil, x = \"Insulin\").set(xlabel = \"Insulin\", ylabel = None)\n",
                "sns.boxplot(ax = axis[1, 0], data = total_data_drop_fil, x = \"BMI\").set(xlabel = \"BMI\", ylabel = None)\n",
                "sns.boxplot(ax = axis[1, 1], data = total_data_drop_fil, x = \"DiabetesPedigreeFunction\").set(xlabel = \"DiabetesPedigreeFunction\", ylabel = None)\n",
                "sns.boxplot(ax = axis[1, 2], data = total_data_drop_fil, x = \"Age\").set(xlabel = \"Age\", ylabel = None)\n",
                "sns.boxplot(ax = axis[1, 3], data = total_data_drop_fil, x = \"Outcome\").set(xlabel = \"Outcome\", ylabel = None)\n",
                "\n",
                "# Ajustar el layout\n",
                "plt.tight_layout()\n",
                "\n",
                "# Mostrar el plot\n",
                "plt.show()"
            ]
        },
        {
            "cell_type": "code",
            "execution_count": null,
            "metadata": {},
            "outputs": [],
            "source": [
                "# analisis de correlaciones\n",
                "\n",
                "fig, axis = plt.subplots(figsize = (10, 6))\n",
                "\n",
                "sns.heatmap(total_data[['Outcome', 'Pregnancies', 'Glucose', 'BloodPressure', 'Insulin', 'BMI', 'DiabetesPedigreeFunction', 'Age' ]].corr(), annot = True, fmt = \".2f\")\n",
                "plt.tight_layout()\n",
                "plt.show()\n",
                "\n",
                "\n"
            ]
        },
        {
            "cell_type": "code",
            "execution_count": null,
            "metadata": {},
            "outputs": [],
            "source": [
                "# bloodpresure tiene una corrralcion muy debil con el outcome asi que la podemos eliminar\n",
                "\n",
                "total_data_eda = total_data_drop_fil.drop(['BloodPressure'], axis=1)\n",
                "print(total_data_eda.head())\n",
                "\n",
                "# reducir outliers en \"insulin\" y \"DiabetesPedigreeFunction\""
            ]
        },
        {
            "cell_type": "code",
            "execution_count": null,
            "metadata": {},
            "outputs": [],
            "source": [
                "# corroboramos teoria vista en matriz de correlacion \n",
                "\n",
                "fig, axis = plt.subplots(figsize = (10, 5), ncols = 4)\n",
                "\n",
                "sns.regplot(ax = axis[0], data = total_data_eda, x = \"Age\", y = \"Outcome\")\n",
                "sns.regplot(ax = axis[1], data = total_data_eda, x = \"BMI\", y = \"Outcome\")\n",
                "sns.regplot(ax = axis[2], data = total_data_eda, x = \"Glucose\", y = \"Outcome\")\n",
                "sns.regplot(ax = axis[3], data = total_data_eda, x = \"Pregnancies\", y = \"Outcome\")\n",
                "\n",
                "plt.tight_layout()\n",
                "\n",
                "plt.show()"
            ]
        },
        {
            "cell_type": "code",
            "execution_count": null,
            "metadata": {},
            "outputs": [],
            "source": [
                "total_data_eda.describe()\n",
                "\n",
                "# las avariables con mas outliers son DiabetesPedigreeFunction y Insulin, pero no son las mas importantes, asi que dejmaos los ouitliers"
            ]
        },
        {
            "cell_type": "code",
            "execution_count": null,
            "metadata": {},
            "outputs": [],
            "source": [
                "# split train y test\n",
                "\n",
                "from sklearn.model_selection import train_test_split\n",
                "\n",
                "# Dividimos el conjunto de datos en muestras de train y test\n",
                "X = total_data.drop(\"Outcome\", axis = 1)\n",
                "y = total_data[\"Outcome\"]\n",
                "\n",
                "X_train, X_test, y_train, y_test = train_test_split(X, y, test_size = 0.2, random_state = 42)\n",
                "\n",
                "X_train.head()\n",
                "\n",
                "\n",
                "# escalado de valores \n",
                "\n",
                "from sklearn.preprocessing import StandardScaler\n",
                "\n",
                "scaler = StandardScaler()\n",
                "scaler.fit(X_train)\n",
                "\n",
                "X_train_norm = scaler.transform(X_train)\n",
                "X_train_norm = pd.DataFrame(X_train_norm, index = X_train.index)\n",
                "\n",
                "X_test_norm = scaler.transform(X_test)\n",
                "X_test_norm = pd.DataFrame(X_test_norm, index = X_test.index)\n",
                "\n",
                "X_train_norm.head()\n",
                "X_test_norm.head()\n"
            ]
        },
        {
            "cell_type": "code",
            "execution_count": null,
            "metadata": {},
            "outputs": [],
            "source": [
                "X_train_norm[\"Outcome\"] = list(y_train)\n",
                "X_test_norm[\"Outcome\"] = list(y_test)\n",
                "\n",
                "X_train_norm.to_csv(\"../data/processed/clean_diabetes_train.csv\", index=False)\n",
                "X_test_norm.to_csv(\"../data/processed/clean_diabetes_test.csv\", index=False)\n",
                "\n",
                "# EDA COMPLETADO !!!!\n",
                "\n"
            ]
        },
        {
            "cell_type": "code",
            "execution_count": null,
            "metadata": {},
            "outputs": [],
            "source": [
                "# Leer el conjunto de datos de entrenamiento desde un archivo CSV\n",
                "train_df = pd.read_csv('../data/processed/clean_diabetes_train.csv')\n",
                "print(\"Conjunto de datos de entrenamiento:\")\n",
                "\n",
                "\n",
                "# Leer el conjunto de datos de prueba desde un archivo CSV\n",
                "test_df = pd.read_csv('../data/processed/clean_diabetes_test.csv')\n",
                "print(\"\\nConjunto de datos de prueba:\")\n",
                "\n",
                "# Separar las características y la variable objetivo para el conjunto de entrenamiento\n",
                "X_train = train_df.drop(columns='Outcome')\n",
                "y_train = train_df['Outcome']\n",
                "\n",
                "# Separar las características y la variable objetivo para el conjunto de prueba\n",
                "X_test = test_df.drop(columns='Outcome')\n",
                "y_test = test_df['Outcome']"
            ]
        },
        {
            "cell_type": "code",
            "execution_count": null,
            "metadata": {},
            "outputs": [],
            "source": [
                "import pandas as pd\n",
                "\n",
                "total_data = X\n",
                "total_data[\"Name\"] = y\n",
                "\n",
                "pd.plotting.parallel_coordinates(total_data, \"Name\", color = (\"#E58139\", \"#39E581\", \"#ffff00\",\"#ff0000\"))"
            ]
        },
        {
            "cell_type": "code",
            "execution_count": null,
            "metadata": {},
            "outputs": [],
            "source": [
                "# TEST ARBOL DE REGRESION\n",
                "\n",
                "from sklearn.tree import DecisionTreeRegressor\n",
                "\n",
                "model = DecisionTreeRegressor(random_state = 42)\n",
                "model.fit(X_train, y_train)"
            ]
        },
        {
            "cell_type": "code",
            "execution_count": null,
            "metadata": {},
            "outputs": [],
            "source": [
                "import matplotlib.pyplot as plt\n",
                "from sklearn import tree\n",
                "\n",
                "fig = plt.figure(figsize=(15,15))\n",
                "\n",
                "tree.plot_tree(model, feature_names = list(X_train.columns), class_names = [\"Pregnancies\" , \"Glucose\", \"Insulin\", \"BMI\", \"DiabetesPedigreeFunction\", \"Age\"], filled = True)\n",
                "\n",
                "plt.show()"
            ]
        },
        {
            "cell_type": "code",
            "execution_count": null,
            "metadata": {},
            "outputs": [],
            "source": [
                "y_pred = model.predict(X_test)\n",
                "y_pred\n",
                "\n",
                "from sklearn.metrics import mean_squared_error\n",
                "\n",
                "print(f\"Error cuadrático medio: {mean_squared_error(y_test, y_pred)}\")"
            ]
        },
        {
            "cell_type": "code",
            "execution_count": null,
            "metadata": {},
            "outputs": [],
            "source": [
                "from pickle import dump\n",
                "dump(model, open(\"decision_tree_regressor_default_42.sav\", \"wb\"))"
            ]
        },
        {
            "cell_type": "code",
            "execution_count": null,
            "metadata": {},
            "outputs": [],
            "source": [
                "# TEST ARBOL DE CLASIFICACION\n",
                "\n",
                "from sklearn.tree import DecisionTreeClassifier\n",
                "\n",
                "model = DecisionTreeClassifier(random_state = 42)\n",
                "model.fit(X_train, y_train)\n",
                "\n",
                "import matplotlib.pyplot as plt\n",
                "from sklearn import tree\n",
                "\n",
                "fig = plt.figure(figsize=(15,15))\n",
                "\n",
                "tree.plot_tree(model, feature_names = list(X_train.columns), class_names = [\"0\", \"1\", \"2\"], filled = True)\n",
                "\n",
                "plt.show()"
            ]
        },
        {
            "cell_type": "code",
            "execution_count": null,
            "metadata": {},
            "outputs": [],
            "source": [
                "y_pred = model.predict(X_test)\n",
                "y_pred"
            ]
        },
        {
            "cell_type": "code",
            "execution_count": null,
            "metadata": {},
            "outputs": [],
            "source": [
                "from sklearn.metrics import accuracy_score, classification_report\n",
                "\n",
                "\n",
                "print(classification_report(y_test, y_pred))\n",
                "print(accuracy_score(y_test, y_pred))"
            ]
        },
        {
            "cell_type": "code",
            "execution_count": null,
            "metadata": {},
            "outputs": [],
            "source": [
                "from pickle import dump\n",
                "\n",
                "dump(model, open(\"decision_tree_classifier_default_42.sav\", \"wb\"))"
            ]
        },
        {
            "cell_type": "code",
            "execution_count": null,
            "metadata": {},
            "outputs": [],
            "source": [
                "# OPTIMIZACION CLASSIFIER TREE\n",
                "\n",
                "from sklearn.model_selection import GridSearchCV\n",
                "\n",
                "# Crear el modelo de árbol de decisión\n",
                "dtc = DecisionTreeClassifier(random_state=42)\n",
                "\n",
                "# Definir los parámetros de búsqueda\n",
                "param_grid = {\n",
                "    'criterion': ['gini', 'entropy'],  # Función de medida de la calidad de una división\n",
                "    'max_depth': [None, 10, 20, 30, 40, 50],  # Profundidad máxima del árbol\n",
                "    'min_samples_split': [2, 5, 10],  # Número mínimo de muestras necesarias para dividir un nodo\n",
                "    'min_samples_leaf': [1, 2, 4],  # Número mínimo de muestras necesarias en una hoja\n",
                "    'max_features': [None, 'sqrt', 'log2'],  # Número de características a considerar para la mejor división\n",
                "}\n",
                "\n",
                "# Configurar GridSearchCV\n",
                "grid_search = GridSearchCV(estimator=dtc, param_grid=param_grid, cv=5, n_jobs=-1, verbose=2, scoring='accuracy')\n",
                "\n",
                "# Entrenar el modelo con GridSearchCV\n",
                "grid_search.fit(X_train, y_train)\n",
                "\n",
                "# Obtener los mejores parámetros\n",
                "best_params = grid_search.best_params_\n",
                "print(\"Mejores parámetros encontrados:\", best_params)\n",
                "\n",
                "# Mejores parámetros encontrados: {'criterion': 'entropy', 'max_depth': None, 'max_features': None, 'min_samples_leaf': 2, 'min_samples_split': 10}"
            ]
        },
        {
            "cell_type": "code",
            "execution_count": 93,
            "metadata": {},
            "outputs": [
                {
                    "name": "stdout",
                    "output_type": "stream",
                    "text": [
                        "Precisión en el conjunto de prueba: 0.7857142857142857\n",
                        "\n",
                        "Reporte de clasificación:\n",
                        "              precision    recall  f1-score   support\n",
                        "\n",
                        "           0       0.82      0.86      0.84        99\n",
                        "           1       0.72      0.65      0.69        55\n",
                        "\n",
                        "    accuracy                           0.79       154\n",
                        "   macro avg       0.77      0.76      0.76       154\n",
                        "weighted avg       0.78      0.79      0.78       154\n",
                        "\n"
                    ]
                }
            ],
            "source": [
                "best_model = DecisionTreeClassifier(\n",
                "    criterion='entropy', \n",
                "    max_depth= 5, \n",
                "    max_features= 4, \n",
                "    min_samples_leaf= 3, \n",
                "    min_samples_split=15,\n",
                "    random_state=40\n",
                ")\n",
                "\n",
                "best_model.fit(X_train, y_train)\n",
                "\n",
                "y_pred = best_model.predict(X_test)\n",
                "\n",
                "accuracy = accuracy_score(y_test, y_pred)\n",
                "print(\"Precisión en el conjunto de prueba:\", accuracy)\n",
                "print(\"\\nReporte de clasificación:\")\n",
                "print(classification_report(y_test, y_pred))\n",
                "\n",
                "dump(model, open(\"decision_tree_classifier_tweaked_40.sav\", \"wb\"))"
            ]
        }
    ],
    "metadata": {
        "kernelspec": {
            "display_name": "Python 3.8.13 64-bit ('3.8.13')",
            "language": "python",
            "name": "python3"
        },
        "language_info": {
            "codemirror_mode": {
                "name": "ipython",
                "version": 3
            },
            "file_extension": ".py",
            "mimetype": "text/x-python",
            "name": "python",
            "nbconvert_exporter": "python",
            "pygments_lexer": "ipython3",
            "version": "3.10.12"
        },
        "orig_nbformat": 4,
        "vscode": {
            "interpreter": {
                "hash": "110cc1dee26208153f2972f08a2ad52b6a56238dc66d48e87fb757ef2996db56"
            }
        }
    },
    "nbformat": 4,
    "nbformat_minor": 2
}
